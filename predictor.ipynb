{
 "cells": [
  {
   "cell_type": "code",
   "execution_count": 1,
   "metadata": {},
   "outputs": [],
   "source": [
    "import os\n",
    "import warnings\n",
    "warnings.filterwarnings('ignore')\n",
    "from sklearn.datasets import load_files\n",
    "import pandas as pd\n",
    "import numpy as np\n",
    "import json\n",
    "from sklearn.feature_extraction.text import CountVectorizer, TfidfVectorizer\n",
    "from sklearn.linear_model import LogisticRegression, LinearRegression\n",
    "from sklearn.pipeline import make_pipeline\n",
    "from sklearn.model_selection import train_test_split, GridSearchCV\n",
    "import matplotlib.pyplot as plt\n",
    "from sklearn.metrics import mean_squared_error, accuracy_score\n",
    "import random\n",
    "from pylab import rcParams\n",
    "%matplotlib inline"
   ]
  },
  {
   "cell_type": "markdown",
   "metadata": {},
   "source": [
    "### В тренировочной выборке присутствует 3 типа комментариев: отрицательные, положительные и комментарии без разметки. Нас интересуют только первые 2 типа."
   ]
  },
  {
   "cell_type": "code",
   "execution_count": 2,
   "metadata": {},
   "outputs": [],
   "source": [
    "def data_reader(directory, review_type):\n",
    "    data = []\n",
    "    rating = []\n",
    "    if review_type == 'pos':\n",
    "        label = [1]*12500\n",
    "    else:\n",
    "        label = [0]*12500\n",
    "    path = directory+'/'+review_type\n",
    "    files = os.listdir(path) \n",
    "    for file in files:\n",
    "        with open(path+'/'+file) as f:\n",
    "            text = f.read()\n",
    "            rat = (int(file.split('_')[1][:-4]))\n",
    "            \n",
    "            data.append(text)\n",
    "            rating.append(rat)\n",
    "            \n",
    "    if review_type == 'pos':\n",
    "        label = [1]*len(files)\n",
    "    else:\n",
    "        label = [0]*len(files)\n",
    "        \n",
    "    return data, label, rating"
   ]
  },
  {
   "cell_type": "code",
   "execution_count": 3,
   "metadata": {},
   "outputs": [],
   "source": [
    "text_train_neg, y_train_neg, rat_train_neg = data_reader('train', 'neg')\n",
    "text_train_pos, y_train_pos, rat_train_pos = data_reader('train', 'pos')"
   ]
  },
  {
   "cell_type": "code",
   "execution_count": 4,
   "metadata": {},
   "outputs": [],
   "source": [
    "text_train = text_train_neg + text_train_pos\n",
    "y_train = y_train_neg + y_train_pos\n",
    "rating_train = rat_train_neg + rat_train_pos"
   ]
  },
  {
   "cell_type": "code",
   "execution_count": 5,
   "metadata": {},
   "outputs": [
    {
     "name": "stdout",
     "output_type": "stream",
     "text": [
      "Number of documents in training data: 25000\n",
      "[12500 12500]\n"
     ]
    }
   ],
   "source": [
    "print(\"Number of documents in training data: %d\" % len(text_train))\n",
    "print(np.bincount(y_train))"
   ]
  },
  {
   "cell_type": "code",
   "execution_count": 6,
   "metadata": {},
   "outputs": [
    {
     "data": {
      "text/plain": [
       "'It is only Robert De Niro film which I really hates. It is stupid film with horrible acting (of course not De Niro). For me, Brian De Palma must do his mafia films as always like Scarface (1983) or The Untouchables (1987). I also loved De Palma\\'s Mission: Impossible (1996). De Niro worked with Palma two different times too, Greetings and The Wedding Party. I though that The Wedding Party was OK too (I didn\\'t watch Greetings). <br /><br />Screenplay is really bad and unfunny. There are no any scene where I can smile for even one time. Film lost a chance to be a funny style even a little bit in a \"Be Black baby\" scene and also I don\\'t like the scene where a guy\\'s sexual organ appeared. So, it is one of the worst film I have ever seen! just worst. I hate that.'"
      ]
     },
     "execution_count": 6,
     "metadata": {},
     "output_type": "execute_result"
    }
   ],
   "source": [
    "# пример отрицательного отзыва\n",
    "text_train[1]"
   ]
  },
  {
   "cell_type": "code",
   "execution_count": 7,
   "metadata": {},
   "outputs": [
    {
     "data": {
      "text/plain": [
       "0"
      ]
     },
     "execution_count": 7,
     "metadata": {},
     "output_type": "execute_result"
    }
   ],
   "source": [
    "# метка отзыва\n",
    "y_train[1]"
   ]
  },
  {
   "cell_type": "markdown",
   "metadata": {},
   "source": [
    "### Таким образом, положитетельные комментарии имеют метку 1, а отрицательные комментарии метку 0"
   ]
  },
  {
   "cell_type": "code",
   "execution_count": 8,
   "metadata": {},
   "outputs": [],
   "source": [
    "text_test_neg, y_test_neg, rat_test_neg = data_reader('test', 'neg')\n",
    "text_test_pos, y_test_pos, rat_test_pos = data_reader('test', 'pos')"
   ]
  },
  {
   "cell_type": "code",
   "execution_count": 9,
   "metadata": {},
   "outputs": [],
   "source": [
    "text_test = text_test_neg + text_test_pos\n",
    "y_test = y_test_neg + y_test_pos\n",
    "rating_test = rat_test_neg + rat_test_pos"
   ]
  },
  {
   "cell_type": "code",
   "execution_count": 10,
   "metadata": {},
   "outputs": [
    {
     "name": "stdout",
     "output_type": "stream",
     "text": [
      "Number of documents in testing data: 25000\n",
      "[12500 12500]\n"
     ]
    }
   ],
   "source": [
    "print(\"Number of documents in testing data: %d\" % len(text_test))\n",
    "print(np.bincount(y_test))"
   ]
  },
  {
   "cell_type": "markdown",
   "metadata": {},
   "source": [
    "### Перемешаем тренировочную и тестовую выборки, поскольку из-за особенности их формирования сначала следуют орицательные отзывы, затем положительные"
   ]
  },
  {
   "cell_type": "code",
   "execution_count": 11,
   "metadata": {},
   "outputs": [],
   "source": [
    "SEED = 17\n",
    "random.seed(SEED)\n",
    "random.shuffle(text_train)\n",
    "random.seed(SEED)\n",
    "random.shuffle(y_train)\n",
    "random.seed(SEED)\n",
    "random.shuffle(rating_train)"
   ]
  },
  {
   "cell_type": "code",
   "execution_count": 12,
   "metadata": {},
   "outputs": [],
   "source": [
    "SEED = 17\n",
    "random.seed(SEED)\n",
    "random.shuffle(text_test)\n",
    "random.seed(SEED)\n",
    "random.shuffle(y_test)\n",
    "random.seed(SEED)\n",
    "random.shuffle(rating_test)"
   ]
  },
  {
   "cell_type": "markdown",
   "metadata": {},
   "source": [
    "### Токенизируем комментарии с помощью TfidfVectorizer с ngram = (1, 2) и подберем гиперпараметры с помощью GridSearchCV, используя в качестве модели логистическую регрессию"
   ]
  },
  {
   "cell_type": "code",
   "execution_count": 13,
   "metadata": {},
   "outputs": [],
   "source": [
    "def plot_grid_scores(grid, param_name):\n",
    "    plt.plot(grid.param_grid[param_name], grid.cv_results_['mean_test_score'],\n",
    "        color='green', label='test')\n",
    "    plt.legend();"
   ]
  },
  {
   "cell_type": "code",
   "execution_count": 14,
   "metadata": {},
   "outputs": [
    {
     "name": "stdout",
     "output_type": "stream",
     "text": [
      "CPU times: user 28.1 s, sys: 1.59 s, total: 29.7 s\n",
      "Wall time: 5min 42s\n"
     ]
    },
    {
     "data": {
      "text/plain": [
       "GridSearchCV(cv=5, error_score='raise-deprecating',\n",
       "             estimator=Pipeline(memory=None,\n",
       "                                steps=[('tfidfvectorizer',\n",
       "                                        TfidfVectorizer(analyzer='word',\n",
       "                                                        binary=False,\n",
       "                                                        decode_error='strict',\n",
       "                                                        dtype=<class 'numpy.float64'>,\n",
       "                                                        encoding='utf-8',\n",
       "                                                        input='content',\n",
       "                                                        lowercase=True,\n",
       "                                                        max_df=1.0,\n",
       "                                                        max_features=7000,\n",
       "                                                        min_df=1,\n",
       "                                                        ngram_range=(1, 2),\n",
       "                                                        norm='l2',\n",
       "                                                        preprocessor=None,\n",
       "                                                        smooth_idf=True...\n",
       "                                                           tol=0.0001,\n",
       "                                                           verbose=0,\n",
       "                                                           warm_start=False))],\n",
       "                                verbose=False),\n",
       "             iid='warn', n_jobs=-1,\n",
       "             param_grid={'logisticregression__C': array([1.00000000e-03, 3.59381366e-03, 1.29154967e-02, 4.64158883e-02,\n",
       "       1.66810054e-01, 5.99484250e-01, 2.15443469e+00, 7.74263683e+00,\n",
       "       2.78255940e+01, 1.00000000e+02])},\n",
       "             pre_dispatch='2*n_jobs', refit=True, return_train_score=False,\n",
       "             scoring=None, verbose=0)"
      ]
     },
     "execution_count": 14,
     "metadata": {},
     "output_type": "execute_result"
    }
   ],
   "source": [
    "%%time\n",
    "pipeline = make_pipeline(TfidfVectorizer(ngram_range = (1, 2), max_features=7000), \\\n",
    "                        LogisticRegression(n_jobs = -1, random_state = 17))\n",
    "params = {'logisticregression__C': np.logspace(-3, 2, 10)}\n",
    "grid_lr = GridSearchCV(pipeline, params, cv = 5, n_jobs = -1)\n",
    "\n",
    "grid_lr.fit(text_train, y_train)"
   ]
  },
  {
   "cell_type": "code",
   "execution_count": 15,
   "metadata": {},
   "outputs": [
    {
     "data": {
      "text/plain": [
       "{'logisticregression__C': 2.1544346900318843}"
      ]
     },
     "execution_count": 15,
     "metadata": {},
     "output_type": "execute_result"
    }
   ],
   "source": [
    "grid_lr.best_params_"
   ]
  },
  {
   "cell_type": "code",
   "execution_count": 16,
   "metadata": {},
   "outputs": [
    {
     "data": {
      "text/plain": [
       "0.8874"
      ]
     },
     "execution_count": 16,
     "metadata": {},
     "output_type": "execute_result"
    }
   ],
   "source": [
    "grid_lr.best_score_"
   ]
  },
  {
   "cell_type": "code",
   "execution_count": 17,
   "metadata": {},
   "outputs": [
    {
     "data": {
      "image/png": "[encoded data removed]",
      "text/plain": [
       "<matplotlib.figure.Figure at 0x7f22604dbb38>"
      ]
     },
     "metadata": {
      "needs_background": "light"
     },
     "output_type": "display_data"
    }
   ],
   "source": [
    "rcParams['figure.figsize'] = (10, 10)\n",
    "plot_grid_scores(grid_lr, 'logisticregression__C')"
   ]
  },
  {
   "cell_type": "markdown",
   "metadata": {},
   "source": [
    "### Стоит поискать параметр регуляризации в более узком диапазоне и не накладывать ограничения на max_features"
   ]
  },
  {
   "cell_type": "code",
   "execution_count": 18,
   "metadata": {},
   "outputs": [
    {
     "name": "stdout",
     "output_type": "stream",
     "text": [
      "CPU times: user 51.5 s, sys: 13.8 s, total: 1min 5s\n",
      "Wall time: 6min 29s\n"
     ]
    },
    {
     "data": {
      "text/plain": [
       "GridSearchCV(cv=5, error_score='raise-deprecating',\n",
       "             estimator=Pipeline(memory=None,\n",
       "                                steps=[('tfidfvectorizer',\n",
       "                                        TfidfVectorizer(analyzer='word',\n",
       "                                                        binary=False,\n",
       "                                                        decode_error='strict',\n",
       "                                                        dtype=<class 'numpy.float64'>,\n",
       "                                                        encoding='utf-8',\n",
       "                                                        input='content',\n",
       "                                                        lowercase=True,\n",
       "                                                        max_df=1.0,\n",
       "                                                        max_features=None,\n",
       "                                                        min_df=1,\n",
       "                                                        ngram_range=(1, 2),\n",
       "                                                        norm='l2',\n",
       "                                                        preprocessor=None,\n",
       "                                                        smooth_idf=True...\n",
       "                                                           intercept_scaling=1,\n",
       "                                                           l1_ratio=None,\n",
       "                                                           max_iter=100,\n",
       "                                                           multi_class='warn',\n",
       "                                                           n_jobs=-1,\n",
       "                                                           penalty='l2',\n",
       "                                                           random_state=17,\n",
       "                                                           solver='warn',\n",
       "                                                           tol=0.0001,\n",
       "                                                           verbose=0,\n",
       "                                                           warm_start=False))],\n",
       "                                verbose=False),\n",
       "             iid='warn', n_jobs=-1,\n",
       "             param_grid={'logisticregression__C': array([ 10.        ,  17.7827941 ,  31.6227766 ,  56.23413252,\n",
       "       100.        ])},\n",
       "             pre_dispatch='2*n_jobs', refit=True, return_train_score=False,\n",
       "             scoring=None, verbose=0)"
      ]
     },
     "execution_count": 18,
     "metadata": {},
     "output_type": "execute_result"
    }
   ],
   "source": [
    "%%time\n",
    "pipeline = make_pipeline(TfidfVectorizer(ngram_range = (1, 2)), \\\n",
    "                        LogisticRegression(n_jobs = -1, random_state = 17))\n",
    "params = {'logisticregression__C': np.logspace(1, 2, 5)}\n",
    "grid_lr = GridSearchCV(pipeline, params, cv = 5, n_jobs = -1)\n",
    "\n",
    "grid_lr.fit(text_train, y_train)"
   ]
  },
  {
   "cell_type": "code",
   "execution_count": 19,
   "metadata": {},
   "outputs": [
    {
     "data": {
      "text/plain": [
       "{'logisticregression__C': 56.23413251903491}"
      ]
     },
     "execution_count": 19,
     "metadata": {},
     "output_type": "execute_result"
    }
   ],
   "source": [
    "grid_lr.best_params_"
   ]
  },
  {
   "cell_type": "code",
   "execution_count": 20,
   "metadata": {},
   "outputs": [
    {
     "data": {
      "text/plain": [
       "0.90628"
      ]
     },
     "execution_count": 20,
     "metadata": {},
     "output_type": "execute_result"
    }
   ],
   "source": [
    "grid_lr.best_score_"
   ]
  },
  {
   "cell_type": "code",
   "execution_count": 21,
   "metadata": {},
   "outputs": [
    {
     "data": {
      "image/png": "[encoded data removed]",
      "text/plain": [
       "<matplotlib.figure.Figure at 0x7f220a413be0>"
      ]
     },
     "metadata": {
      "needs_background": "light"
     },
     "output_type": "display_data"
    }
   ],
   "source": [
    "rcParams['figure.figsize'] = (10, 10)\n",
    "plot_grid_scores(grid_lr, 'logisticregression__C')"
   ]
  },
  {
   "cell_type": "code",
   "execution_count": 22,
   "metadata": {},
   "outputs": [
    {
     "name": "stdout",
     "output_type": "stream",
     "text": [
      "CPU times: user 56.4 s, sys: 13.4 s, total: 1min 9s\n",
      "Wall time: 42.7 s\n"
     ]
    },
    {
     "data": {
      "text/plain": [
       "LogisticRegression(C=56, class_weight=None, dual=False, fit_intercept=True,\n",
       "                   intercept_scaling=1, l1_ratio=None, max_iter=100,\n",
       "                   multi_class='warn', n_jobs=-1, penalty='l2',\n",
       "                   random_state=None, solver='warn', tol=0.0001, verbose=0,\n",
       "                   warm_start=False)"
      ]
     },
     "execution_count": 22,
     "metadata": {},
     "output_type": "execute_result"
    }
   ],
   "source": [
    "%%time\n",
    "cv = TfidfVectorizer(ngram_range=(1,2))\n",
    "cv.fit(text_train)\n",
    "X = cv.transform(text_train)\n",
    "lr = LogisticRegression(C = 56, n_jobs = -1)\n",
    "lr.fit(X, y_train)"
   ]
  },
  {
   "cell_type": "code",
   "execution_count": 23,
   "metadata": {},
   "outputs": [
    {
     "name": "stdout",
     "output_type": "stream",
     "text": [
      "Test accuracy: 0.9026\n"
     ]
    }
   ],
   "source": [
    "X_test = cv.transform(text_test)\n",
    "pred = lr.predict(X_test)\n",
    "print(\"Test accuracy: %2.4f\" % accuracy_score(pred, y_test))"
   ]
  },
  {
   "cell_type": "markdown",
   "metadata": {},
   "source": [
    "## Получили точность на тестовой выборке 0.9026"
   ]
  },
  {
   "cell_type": "markdown",
   "metadata": {},
   "source": [
    "## Логистическая регрессия показывает хороший результат, но все же стоит попробовать модели другой архитектуры, а именно:\n",
    "### 1) двухслойную нейронную сеть с нелинейностью ReLU  и слоем BatchNormalization \n",
    "### 2) 3-слойную нейронную сеть с нелинейностью ReLU  и двумя слоями BatchNormalization"
   ]
  },
  {
   "cell_type": "code",
   "execution_count": 24,
   "metadata": {},
   "outputs": [],
   "source": [
    "cv = TfidfVectorizer(ngram_range=(1,2), max_features=7000)\n",
    "cv.fit(text_train)\n",
    "X_tr_transformed = cv.transform(text_train).toarray()\n",
    "X_tr_transformed = np.hstack((X_tr_transformed, np.array(y_train).reshape(-1, 1)))"
   ]
  },
  {
   "cell_type": "code",
   "execution_count": 25,
   "metadata": {},
   "outputs": [],
   "source": [
    "import torch\n",
    "import torch.nn as nn\n",
    "import torch.optim as optim\n",
    "import torchvision.datasets as dset\n",
    "from torch.utils.data.sampler import SubsetRandomSampler, Sampler"
   ]
  },
  {
   "cell_type": "code",
   "execution_count": 26,
   "metadata": {},
   "outputs": [],
   "source": [
    "batch_size = 128\n",
    "\n",
    "data_size = X_tr_transformed.shape[0]\n",
    "validation_split = .2\n",
    "split = int(np.floor(validation_split * data_size))\n",
    "indices = list(range(data_size))\n",
    "np.random.shuffle(indices)\n",
    "\n",
    "train_indices, val_indices = indices[split:], indices[:split]\n",
    "\n",
    "train_sampler = SubsetRandomSampler(train_indices)\n",
    "val_sampler = SubsetRandomSampler(val_indices)\n",
    "\n",
    "train_loader = torch.utils.data.DataLoader(X_tr_transformed, batch_size=batch_size, \n",
    "                                           sampler=train_sampler)\n",
    "val_loader = torch.utils.data.DataLoader(X_tr_transformed, batch_size=batch_size,\n",
    "                                         sampler=val_sampler)"
   ]
  },
  {
   "cell_type": "code",
   "execution_count": 27,
   "metadata": {},
   "outputs": [],
   "source": [
    "def train_model(model, train_loader, val_loader, loss, optimizer, num_epochs, scheduler):    \n",
    "    loss_history = []\n",
    "    train_history = []\n",
    "    val_history = []\n",
    "    for epoch in range(num_epochs):\n",
    "        model.train() # Enter train mode\n",
    "        \n",
    "        loss_accum = 0\n",
    "        correct_samples = 0\n",
    "        total_samples = 0\n",
    "        for i_step, data in enumerate(train_loader):\n",
    "            x = data[:, :7000].type(torch.FloatTensor)\n",
    "            y = data[:, 7000].type(torch.LongTensor)\n",
    "            prediction = model(x)    \n",
    "            loss_value = loss(prediction, y)\n",
    "            optimizer.zero_grad()\n",
    "            loss_value.backward()\n",
    "            optimizer.step()\n",
    "            \n",
    "            _, indices = torch.max(prediction, 1)\n",
    "            correct_samples += torch.sum(indices == y)\n",
    "            total_samples += y.shape[0]\n",
    "            \n",
    "            loss_accum += loss_value\n",
    "\n",
    "        ave_loss = loss_accum / (i_step + 1)\n",
    "        train_accuracy = float(correct_samples) / total_samples\n",
    "        val_accuracy = compute_accuracy(model, val_loader)\n",
    "        \n",
    "        loss_history.append(float(ave_loss))\n",
    "        train_history.append(train_accuracy)\n",
    "        val_history.append(val_accuracy)\n",
    "        \n",
    "        print(\"Average loss: %f, Train accuracy: %f, Val accuracy: %f\" % (ave_loss, train_accuracy, val_accuracy))\n",
    "        scheduler.step()\n",
    "        \n",
    "    return loss_history, train_history, val_history\n",
    "        \n",
    "def compute_accuracy(model, loader):\n",
    "\n",
    "    correct_samples = 0\n",
    "    total_samples = 0\n",
    "    for data in (loader):\n",
    "        x = data[:, :7000].type(torch.FloatTensor)\n",
    "        y = data[:, 7000].type(torch.LongTensor)\n",
    "        prediction = model(x)\n",
    "        _, indices = torch.max(prediction, 1)\n",
    "        correct_samples += torch.sum(indices == y)\n",
    "        total_samples += y.shape[0]\n",
    "    accuracy = float(correct_samples) / total_samples\n",
    "\n",
    "    return accuracy"
   ]
  },
  {
   "cell_type": "code",
   "execution_count": 28,
   "metadata": {},
   "outputs": [],
   "source": [
    "nn_model = nn.Sequential(\n",
    "            nn.Linear(X_tr_transformed.shape[1]-1, 512),\n",
    "            nn.BatchNorm1d(512),\n",
    "            nn.ReLU(inplace=True),\n",
    "            nn.Linear(512, 2), \n",
    "         )\n",
    "nn_model.type(torch.FloatTensor)\n",
    "loss = nn.CrossEntropyLoss().type(torch.FloatTensor)\n",
    "optimizer = optim.SGD(nn_model.parameters(), lr=1e-2, weight_decay=1e-3)\n",
    "scheduler = optim.lr_scheduler.StepLR(optimizer, step_size=5, gamma=0.5)"
   ]
  },
  {
   "cell_type": "code",
   "execution_count": 29,
   "metadata": {},
   "outputs": [
    {
     "name": "stdout",
     "output_type": "stream",
     "text": [
      "Average loss: 0.437789, Train accuracy: 0.807100, Val accuracy: 0.859400\n",
      "Average loss: 0.254086, Train accuracy: 0.908600, Val accuracy: 0.872400\n",
      "Average loss: 0.177928, Train accuracy: 0.942250, Val accuracy: 0.877000\n",
      "Average loss: 0.124936, Train accuracy: 0.968850, Val accuracy: 0.878800\n",
      "Average loss: 0.088897, Train accuracy: 0.984900, Val accuracy: 0.879200\n",
      "Average loss: 0.062887, Train accuracy: 0.994200, Val accuracy: 0.879400\n",
      "Average loss: 0.052751, Train accuracy: 0.996850, Val accuracy: 0.880000\n",
      "Average loss: 0.044560, Train accuracy: 0.998050, Val accuracy: 0.879800\n",
      "Average loss: 0.039344, Train accuracy: 0.999150, Val accuracy: 0.883200\n",
      "Average loss: 0.034571, Train accuracy: 0.999300, Val accuracy: 0.882400\n",
      "Average loss: 0.030674, Train accuracy: 0.999750, Val accuracy: 0.880200\n",
      "Average loss: 0.028736, Train accuracy: 0.999750, Val accuracy: 0.880800\n",
      "Average loss: 0.027478, Train accuracy: 0.999850, Val accuracy: 0.876600\n",
      "Average loss: 0.026185, Train accuracy: 0.999850, Val accuracy: 0.878800\n",
      "Average loss: 0.024741, Train accuracy: 0.999700, Val accuracy: 0.876200\n",
      "Average loss: 0.023292, Train accuracy: 0.999900, Val accuracy: 0.880200\n",
      "Average loss: 0.023023, Train accuracy: 0.999900, Val accuracy: 0.880000\n",
      "Average loss: 0.022472, Train accuracy: 1.000000, Val accuracy: 0.881600\n",
      "Average loss: 0.021967, Train accuracy: 0.999850, Val accuracy: 0.877200\n",
      "Average loss: 0.022217, Train accuracy: 1.000000, Val accuracy: 0.881800\n",
      "Average loss: 0.021230, Train accuracy: 0.999950, Val accuracy: 0.878400\n",
      "Average loss: 0.020286, Train accuracy: 1.000000, Val accuracy: 0.881800\n",
      "Average loss: 0.021357, Train accuracy: 0.999900, Val accuracy: 0.878000\n",
      "Average loss: 0.020695, Train accuracy: 1.000000, Val accuracy: 0.879800\n",
      "Average loss: 0.020073, Train accuracy: 0.999900, Val accuracy: 0.879800\n",
      "Average loss: 0.020537, Train accuracy: 0.999950, Val accuracy: 0.879400\n",
      "Average loss: 0.019837, Train accuracy: 1.000000, Val accuracy: 0.877400\n",
      "Average loss: 0.021177, Train accuracy: 0.999900, Val accuracy: 0.879400\n",
      "Average loss: 0.020119, Train accuracy: 1.000000, Val accuracy: 0.880600\n",
      "Average loss: 0.019963, Train accuracy: 0.999950, Val accuracy: 0.878000\n"
     ]
    }
   ],
   "source": [
    "loss_history, train_history, val_history = train_model(nn_model, train_loader, val_loader, loss, optimizer, 30, scheduler)"
   ]
  },
  {
   "cell_type": "code",
   "execution_count": 30,
   "metadata": {},
   "outputs": [
    {
     "data": {
      "image/png": "[encoded data removed]",
      "text/plain": [
       "<matplotlib.figure.Figure at 0x7f2201e0efd0>"
      ]
     },
     "metadata": {
      "needs_background": "light"
     },
     "output_type": "display_data"
    }
   ],
   "source": [
    "rcParams['figure.figsize'] = (10, 10)\n",
    "plt.plot(loss_history, label = 'loss')\n",
    "plt.plot(train_history, label = 'train')\n",
    "plt.plot(val_history, label = 'val')\n",
    "plt.legend();"
   ]
  },
  {
   "cell_type": "code",
   "execution_count": 31,
   "metadata": {},
   "outputs": [],
   "source": [
    "nn_model = nn.Sequential(\n",
    "            nn.Linear(X_tr_transformed.shape[1]-1, 128),\n",
    "            nn.BatchNorm1d(128),\n",
    "            nn.ReLU(inplace=True),\n",
    "            nn.Linear(128, 128),\n",
    "            nn.BatchNorm1d(128),\n",
    "            nn.ReLU(inplace = True),\n",
    "            nn.Linear(128, 2), \n",
    "         )\n",
    "nn_model.type(torch.FloatTensor)\n",
    "loss = nn.CrossEntropyLoss().type(torch.FloatTensor)\n",
    "optimizer = optim.SGD(nn_model.parameters(), lr=0.01, weight_decay=0.01, momentum=0.9)\n",
    "scheduler = optim.lr_scheduler.StepLR(optimizer, step_size=5, gamma=0.5)"
   ]
  },
  {
   "cell_type": "code",
   "execution_count": 32,
   "metadata": {},
   "outputs": [
    {
     "name": "stdout",
     "output_type": "stream",
     "text": [
      "Average loss: 0.340416, Train accuracy: 0.847000, Val accuracy: 0.879800\n",
      "Average loss: 0.110890, Train accuracy: 0.963950, Val accuracy: 0.864600\n",
      "Average loss: 0.048515, Train accuracy: 0.988450, Val accuracy: 0.867800\n",
      "Average loss: 0.027291, Train accuracy: 0.996100, Val accuracy: 0.868200\n",
      "Average loss: 0.019041, Train accuracy: 0.998150, Val accuracy: 0.869400\n",
      "Average loss: 0.012222, Train accuracy: 0.999800, Val accuracy: 0.871200\n",
      "Average loss: 0.009271, Train accuracy: 1.000000, Val accuracy: 0.873200\n",
      "Average loss: 0.009528, Train accuracy: 0.999950, Val accuracy: 0.870000\n",
      "Average loss: 0.009189, Train accuracy: 1.000000, Val accuracy: 0.871400\n",
      "Average loss: 0.009122, Train accuracy: 0.999950, Val accuracy: 0.870000\n",
      "Average loss: 0.008801, Train accuracy: 0.999950, Val accuracy: 0.874400\n",
      "Average loss: 0.009096, Train accuracy: 1.000000, Val accuracy: 0.872800\n",
      "Average loss: 0.009041, Train accuracy: 1.000000, Val accuracy: 0.877000\n",
      "Average loss: 0.009136, Train accuracy: 1.000000, Val accuracy: 0.872200\n",
      "Average loss: 0.009274, Train accuracy: 1.000000, Val accuracy: 0.870000\n",
      "Average loss: 0.009165, Train accuracy: 1.000000, Val accuracy: 0.873200\n",
      "Average loss: 0.009168, Train accuracy: 1.000000, Val accuracy: 0.872200\n",
      "Average loss: 0.009410, Train accuracy: 1.000000, Val accuracy: 0.872600\n",
      "Average loss: 0.009137, Train accuracy: 1.000000, Val accuracy: 0.877400\n",
      "Average loss: 0.009375, Train accuracy: 1.000000, Val accuracy: 0.872000\n",
      "Average loss: 0.009374, Train accuracy: 1.000000, Val accuracy: 0.875800\n",
      "Average loss: 0.009373, Train accuracy: 1.000000, Val accuracy: 0.872200\n",
      "Average loss: 0.009267, Train accuracy: 1.000000, Val accuracy: 0.877400\n",
      "Average loss: 0.009402, Train accuracy: 1.000000, Val accuracy: 0.874400\n",
      "Average loss: 0.009272, Train accuracy: 1.000000, Val accuracy: 0.875200\n",
      "Average loss: 0.009360, Train accuracy: 1.000000, Val accuracy: 0.871200\n",
      "Average loss: 0.009300, Train accuracy: 1.000000, Val accuracy: 0.867200\n",
      "Average loss: 0.009310, Train accuracy: 1.000000, Val accuracy: 0.873400\n",
      "Average loss: 0.009312, Train accuracy: 1.000000, Val accuracy: 0.873000\n",
      "Average loss: 0.009472, Train accuracy: 1.000000, Val accuracy: 0.874200\n"
     ]
    }
   ],
   "source": [
    "loss_history, train_history, val_history = train_model(nn_model, train_loader, val_loader, loss, optimizer, 30, scheduler)"
   ]
  },
  {
   "cell_type": "code",
   "execution_count": 33,
   "metadata": {},
   "outputs": [
    {
     "data": {
      "image/png": "[encoded data removed]",
      "text/plain": [
       "<matplotlib.figure.Figure at 0x7f21ffbc8da0>"
      ]
     },
     "metadata": {
      "needs_background": "light"
     },
     "output_type": "display_data"
    }
   ],
   "source": [
    "rcParams['figure.figsize'] = (10, 10)\n",
    "plt.plot(loss_history, label = 'loss')\n",
    "plt.plot(train_history, label = 'train')\n",
    "plt.plot(val_history, label = 'val')\n",
    "plt.legend();"
   ]
  },
  {
   "cell_type": "code",
   "execution_count": 34,
   "metadata": {},
   "outputs": [
    {
     "name": "stdout",
     "output_type": "stream",
     "text": [
      "Test accuracy: 0.8709\n"
     ]
    }
   ],
   "source": [
    "X_test = cv.transform(text_test).toarray()\n",
    "X_test = np.hstack((X_test, np.array(y_test).reshape(-1, 1)))\n",
    "test_loader = torch.utils.data.DataLoader(X_test, batch_size=batch_size)\n",
    "test_accuracy = compute_accuracy(nn_model, test_loader)\n",
    "print(\"Test accuracy: %2.4f\" % test_accuracy)"
   ]
  },
  {
   "cell_type": "markdown",
   "metadata": {},
   "source": [
    "### По результатам видно, что обе модели обладают достаточной мощностью, чтобы приблизить тренировочные данные практически безошибочно. Но при этом точность на валидации выходит на плато и результат получается чуть хуже, чем у логистической регрессии\n",
    "### Данная архитектура нейронных сетей не подходит для нашей задачи, возможно, трансфер лернинг или нейронные сети другой архитектуры выступили бы лучше"
   ]
  },
  {
   "cell_type": "markdown",
   "metadata": {},
   "source": [
    "## Теперь займемся прогнозированием рейтинга"
   ]
  },
  {
   "cell_type": "code",
   "execution_count": 35,
   "metadata": {},
   "outputs": [],
   "source": [
    "X_tr, X_val, y_tr, y_val = train_test_split(text_train, rating_train, test_size = 0.2, shuffle = True)"
   ]
  },
  {
   "cell_type": "code",
   "execution_count": 36,
   "metadata": {},
   "outputs": [],
   "source": [
    "cv = TfidfVectorizer(ngram_range=(1, 2))\n",
    "cv.fit(X_tr)\n",
    "X_tr = cv.transform(X_tr)"
   ]
  },
  {
   "cell_type": "code",
   "execution_count": 37,
   "metadata": {},
   "outputs": [],
   "source": [
    "y_tr = list(map(lambda x: x if x <= 4 else x-2, y_tr))"
   ]
  },
  {
   "cell_type": "code",
   "execution_count": 38,
   "metadata": {},
   "outputs": [
    {
     "data": {
      "text/plain": [
       "LinearRegression(copy_X=True, fit_intercept=True, n_jobs=-1, normalize=False)"
      ]
     },
     "execution_count": 38,
     "metadata": {},
     "output_type": "execute_result"
    }
   ],
   "source": [
    "linreg = LinearRegression(n_jobs=-1)\n",
    "linreg.fit(X_tr, y_tr)"
   ]
  },
  {
   "cell_type": "code",
   "execution_count": 39,
   "metadata": {},
   "outputs": [],
   "source": [
    "X_val = cv.transform(X_val)\n",
    "pred = linreg.predict(X_val)"
   ]
  },
  {
   "cell_type": "code",
   "execution_count": 40,
   "metadata": {},
   "outputs": [],
   "source": [
    "def redactor(x):\n",
    "    if x > 8:\n",
    "        return 10\n",
    "    elif x < 1:\n",
    "        return 1\n",
    "    elif x < 4.5:\n",
    "        return round(x)\n",
    "    else:\n",
    "        return round(x+2)"
   ]
  },
  {
   "cell_type": "code",
   "execution_count": 41,
   "metadata": {},
   "outputs": [],
   "source": [
    "pred = list(map(redactor, pred))"
   ]
  },
  {
   "cell_type": "code",
   "execution_count": 42,
   "metadata": {},
   "outputs": [],
   "source": [
    "pred = list(map(lambda x: round(x) if x < 4.5 else round(x+2), pred))"
   ]
  },
  {
   "cell_type": "code",
   "execution_count": 43,
   "metadata": {},
   "outputs": [
    {
     "name": "stdout",
     "output_type": "stream",
     "text": [
      "Test error: 2.4143\n"
     ]
    }
   ],
   "source": [
    "print(\"Test error: %2.4f\" % np.sqrt(mean_squared_error(pred, y_val)))"
   ]
  },
  {
   "cell_type": "markdown",
   "metadata": {},
   "source": [
    "### Теперь обучим на всей тренировочной выборке и посмотрим результат на тесте"
   ]
  },
  {
   "cell_type": "code",
   "execution_count": 44,
   "metadata": {},
   "outputs": [],
   "source": [
    "cv = TfidfVectorizer(ngram_range=(1, 2))\n",
    "cv.fit(text_train)\n",
    "X_train = cv.transform(text_train)"
   ]
  },
  {
   "cell_type": "code",
   "execution_count": 45,
   "metadata": {},
   "outputs": [],
   "source": [
    "y_train_rat = list(map(lambda x: x if x <= 4 else x-2, rating_train))"
   ]
  },
  {
   "cell_type": "code",
   "execution_count": 46,
   "metadata": {},
   "outputs": [
    {
     "data": {
      "text/plain": [
       "LinearRegression(copy_X=True, fit_intercept=True, n_jobs=-1, normalize=False)"
      ]
     },
     "execution_count": 46,
     "metadata": {},
     "output_type": "execute_result"
    }
   ],
   "source": [
    "linreg = LinearRegression(n_jobs=-1)\n",
    "linreg.fit(X_train, y_train_rat)"
   ]
  },
  {
   "cell_type": "code",
   "execution_count": 47,
   "metadata": {},
   "outputs": [],
   "source": [
    "X_test_rat = cv.transform(text_test)\n",
    "pred = linreg.predict(X_test_rat)"
   ]
  },
  {
   "cell_type": "code",
   "execution_count": 48,
   "metadata": {},
   "outputs": [],
   "source": [
    "pred = list(map(redactor, pred))"
   ]
  },
  {
   "cell_type": "code",
   "execution_count": 49,
   "metadata": {},
   "outputs": [
    {
     "name": "stdout",
     "output_type": "stream",
     "text": [
      "Test error: 1.9968\n"
     ]
    }
   ],
   "source": [
    "print(\"Test error: %2.4f\" % np.sqrt(mean_squared_error(pred, rating_test)))"
   ]
  },
  {
   "cell_type": "markdown",
   "metadata": {},
   "source": [
    "### Посмотрим, как наша модель работает на произвольных комментариях"
   ]
  },
  {
   "cell_type": "code",
   "execution_count": 50,
   "metadata": {},
   "outputs": [],
   "source": [
    "def my_test(cv, lr, linreg, comment):\n",
    "    comment_vec = cv.transform([comment])\n",
    "    pred_class = lr.predict(comment_vec)\n",
    "    if pred_class == 1:\n",
    "        print('Positive')\n",
    "    else:\n",
    "        print('Negative')\n",
    "    pred_rat = redactor(float(linreg.predict(comment_vec)))\n",
    "    print('Rating:', round(pred_rat))"
   ]
  },
  {
   "cell_type": "code",
   "execution_count": 51,
   "metadata": {},
   "outputs": [
    {
     "name": "stdout",
     "output_type": "stream",
     "text": [
      "Positive\n",
      "Rating: 10\n"
     ]
    }
   ],
   "source": [
    "my_test(cv, lr, linreg, 'It was amazing! Wonderful film. I\\'m enjoyed watching it. recommended to all friends and acquaintances')"
   ]
  },
  {
   "cell_type": "code",
   "execution_count": 52,
   "metadata": {},
   "outputs": [
    {
     "name": "stdout",
     "output_type": "stream",
     "text": [
      "Negative\n",
      "Rating: 3\n"
     ]
    }
   ],
   "source": [
    "my_test(cv, lr, linreg, 'The film is positioned as a Comedy, but I didn\\'t see anything funny there. for elementary school children, it may seem funny. lost an hour and a half of time just like that')"
   ]
  },
  {
   "cell_type": "code",
   "execution_count": 53,
   "metadata": {},
   "outputs": [
    {
     "name": "stdout",
     "output_type": "stream",
     "text": [
      "Positive\n",
      "Rating: 8\n"
     ]
    }
   ],
   "source": [
    "#достаточно нейтральный комментарий, но с решением модели согласен\n",
    "my_test(cv, lr, linreg, 'overall, it\\'s a good movie, but I wouldn\\'t watch it again.')"
   ]
  },
  {
   "cell_type": "code",
   "execution_count": 54,
   "metadata": {},
   "outputs": [
    {
     "name": "stdout",
     "output_type": "stream",
     "text": [
      "Positive\n",
      "Rating: 9\n"
     ]
    }
   ],
   "source": [
    "my_test(cv, lr, linreg, 'Wonderful funny movie! The cast is right top. Olga Feigus is a beauty. Hun is awesome and funny. I\\'d watch it a hundred more times. Plus the island itself is picturesque')"
   ]
  },
  {
   "cell_type": "code",
   "execution_count": 55,
   "metadata": {},
   "outputs": [
    {
     "name": "stdout",
     "output_type": "stream",
     "text": [
      "Negative\n",
      "Rating: 2\n"
     ]
    }
   ],
   "source": [
    "my_test(cv, lr, linreg, 'The film is boring, no logic and the action is really slow, don’t recommend you to watch it')"
   ]
  },
  {
   "cell_type": "code",
   "execution_count": 56,
   "metadata": {},
   "outputs": [
    {
     "name": "stdout",
     "output_type": "stream",
     "text": [
      "Positive\n",
      "Rating: 8\n"
     ]
    }
   ],
   "source": [
    "my_test(cv, lr, linreg, 'The movie is full of crazy moments, we had really much fun. Get your friends together to watch it!')"
   ]
  },
  {
   "cell_type": "code",
   "execution_count": 57,
   "metadata": {},
   "outputs": [
    {
     "name": "stdout",
     "output_type": "stream",
     "text": [
      "Negative\n",
      "Rating: 1\n"
     ]
    }
   ],
   "source": [
    "my_test(cv, lr, linreg, 'Words can\\'t describe how bad this movie is. I can\\'t explain it by writing only. You have too see it for yourself to get at grip of how horrible a movie really can be. Not that I recommend you to do that. There are so many clich\\xc3\\xa9s, mistakes (and all other negative things you can imagine) here that will just make you cry. To start with the technical first, there are a LOT of mistakes regarding the airplane. I won\\'t list them here, but just mention the coloring of the plane. They didn\\'t even manage to show an airliner in the colors of a fictional airline, but instead used a 747 painted in the original Boeing livery. Very bad. The plot is stupid and has been done many times before, only much, much better. There are so many ridiculous moments here that i lost count of it really early. Also, I was on the bad guys\\' side all the time in the movie, because the good guys were so stupid. \"Executive Decision\" should without a doubt be you\\'re choice over this one, even the \"Turbulence\"-movies are better. In fact, every other movie in the world is better than this one.')"
   ]
  },
  {
   "cell_type": "markdown",
   "metadata": {},
   "source": [
    "## Получили 2 модели под нашу задачу. Теперь сохраним их"
   ]
  },
  {
   "cell_type": "code",
   "execution_count": 58,
   "metadata": {},
   "outputs": [],
   "source": [
    "import pickle"
   ]
  },
  {
   "cell_type": "code",
   "execution_count": 59,
   "metadata": {},
   "outputs": [],
   "source": [
    "pickl = {\n",
    "    'vectorizer': cv,\n",
    "    'logreg': lr,\n",
    "    'linreg': linreg\n",
    "}\n",
    "pickle.dump( pickl, open( 'models' + \".p\", \"wb\" ) )"
   ]
  },
  {
   "cell_type": "code",
   "execution_count": null,
   "metadata": {},
   "outputs": [],
   "source": []
  },
  {
   "cell_type": "code",
   "execution_count": null,
   "metadata": {},
   "outputs": [],
   "source": []
  }
 ],
 "metadata": {
  "kernelspec": {
   "display_name": "Python 3",
   "language": "python",
   "name": "python3"
  },
  "language_info": {
   "codemirror_mode": {
    "name": "ipython",
    "version": 3
   },
   "file_extension": ".py",
   "mimetype": "text/x-python",
   "name": "python",
   "nbconvert_exporter": "python",
   "pygments_lexer": "ipython3",
   "version": "3.6.8"
  }
 },
 "nbformat": 4,
 "nbformat_minor": 2
}
